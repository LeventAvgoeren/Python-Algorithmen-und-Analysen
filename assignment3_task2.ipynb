{
 "cells": [
  {
   "cell_type": "markdown",
   "id": "023780fc",
   "metadata": {},
   "source": [
    "---"
   ]
  },
  {
   "cell_type": "markdown",
   "id": "4ab44cb1",
   "metadata": {
    "deletable": false,
    "editable": false,
    "nbgrader": {
     "cell_type": "markdown",
     "checksum": "a3ff898d8fc5c2c764dd0950a3251714",
     "grade": false,
     "grade_id": "cell-5d8b1b35a05eb496",
     "locked": true,
     "schema_version": 3,
     "solution": false,
     "task": false
    }
   },
   "source": [
    "# Assignment 3 Task 2 (3 points)"
   ]
  },
  {
   "cell_type": "markdown",
   "id": "77056c71-a7ea-4564-93fe-b1edb9d53ee2",
   "metadata": {
    "deletable": false,
    "editable": false,
    "nbgrader": {
     "cell_type": "markdown",
     "checksum": "5ff88dae61269ec149457912c2175275",
     "grade": false,
     "grade_id": "cell-a919cf3ae84b1da6",
     "locked": true,
     "schema_version": 3,
     "solution": false,
     "task": false
    }
   },
   "source": [
    "You are given the following dictionary of sets:"
   ]
  },
  {
   "cell_type": "code",
   "execution_count": 8,
   "id": "748f5bab-c4be-4085-8183-ae556edc09d4",
   "metadata": {
    "deletable": false,
    "editable": false,
    "nbgrader": {
     "cell_type": "code",
     "checksum": "7542b44cc49ec9dd0eca86c97e43c892",
     "grade": false,
     "grade_id": "cell-c96de3fff89d6cf3",
     "locked": true,
     "schema_version": 3,
     "solution": false,
     "task": false
    }
   },
   "outputs": [],
   "source": [
    "prog_skills = {\n",
    "    \"Anna\": {\"C#\", \"Java\"},\n",
    "    \"Bob\": {\"Python\", \"C++\", \"JavaScript\"},\n",
    "    \"Carla\": {\"Java\", \"JavaScript\", \"Python\"},\n",
    "}"
   ]
  },
  {
   "cell_type": "markdown",
   "id": "498d0092",
   "metadata": {
    "deletable": false,
    "editable": false,
    "nbgrader": {
     "cell_type": "markdown",
     "checksum": "8a0cc191f2c64a90358b1755d658c8e9",
     "grade": false,
     "grade_id": "cell-9267bd6ea46913c5",
     "locked": true,
     "schema_version": 3,
     "solution": false,
     "task": false
    }
   },
   "source": [
    "Using this dictionary, write a function that returns the answer to each of the questions below. The returned string should follow the format of the expected output below."
   ]
  },
  {
   "cell_type": "markdown",
   "id": "41786d79-060b-434c-a0b9-ad70d3947ad6",
   "metadata": {
    "deletable": false,
    "editable": false,
    "nbgrader": {
     "cell_type": "markdown",
     "checksum": "c5116a721460d98360759711263b2a89",
     "grade": false,
     "grade_id": "cell-ac39eb0db2102e6f",
     "locked": true,
     "schema_version": 3,
     "solution": false,
     "task": false
    }
   },
   "source": [
    "### Question 1: What language(s) can a person code in?\n",
    "\n",
    "For Anna, expected output is:\n",
    "``Anna can code in {'Python', 'Java'}.``\n",
    "\n",
    "(Order of items in a set may vary, and that's just fine.)"
   ]
  },
  {
   "cell_type": "code",
   "execution_count": 9,
   "id": "eb743400",
   "metadata": {
    "collapsed": false,
    "deletable": false,
    "jupyter": {
     "outputs_hidden": false
    },
    "nbgrader": {
     "cell_type": "code",
     "checksum": "93f453da3a6e555987466e1fac96414b",
     "grade": false,
     "grade_id": "cell-c8c1768e7f527c52",
     "locked": false,
     "schema_version": 3,
     "solution": true,
     "task": false
    }
   },
   "outputs": [],
   "source": [
    "\n",
    "def question1(dictionary, person):\n",
    "    for name in dictionary:\n",
    "        if name==person:\n",
    "            return name+\" can code in \"+str(dictionary[name])+\".\"\n"
   ]
  },
  {
   "cell_type": "markdown",
   "id": "cded1f2f-53e9-4088-b460-1bc531c7fc80",
   "metadata": {
    "deletable": false,
    "editable": false,
    "nbgrader": {
     "cell_type": "markdown",
     "checksum": "50921c2ec6389dcb595ebd91ba1ef0bd",
     "grade": false,
     "grade_id": "cell-6fadd257100f787f",
     "locked": true,
     "schema_version": 3,
     "solution": false,
     "task": false
    }
   },
   "source": [
    "### Question 2: How many language(s) can a person code in?\n",
    "\n",
    "For Bob, expected output is:\n",
    "``Bob codes in 3 languages.``"
   ]
  },
  {
   "cell_type": "code",
   "execution_count": 10,
   "id": "c135abe0-13d1-4fdb-a523-98347320996c",
   "metadata": {
    "deletable": false,
    "nbgrader": {
     "cell_type": "code",
     "checksum": "8f22c7740829ce7cb756d280a1c73d0d",
     "grade": false,
     "grade_id": "cell-e67bd891d067ff8a",
     "locked": false,
     "schema_version": 3,
     "solution": true,
     "task": false
    }
   },
   "outputs": [],
   "source": [
    "def question2(dictionary, person):\n",
    "    count=0\n",
    "    for name in dictionary:\n",
    "        if name==person:\n",
    "            length=dictionary[name]\n",
    "            return name+\" codes in \"+str(len(length))+\" languages.\""
   ]
  },
  {
   "cell_type": "markdown",
   "id": "dc819b02-1bba-4a09-a760-1dfc7a2cb1d5",
   "metadata": {
    "deletable": false,
    "editable": false,
    "nbgrader": {
     "cell_type": "markdown",
     "checksum": "1fee23ab65ecd55f897e414b24cb9498",
     "grade": false,
     "grade_id": "cell-e9cd2c62dd41f43b",
     "locked": true,
     "schema_version": 3,
     "solution": false,
     "task": false
    }
   },
   "source": [
    "### Question 3: What language(s) do both person 1 and person 2 code in?\n",
    "\n",
    "For Anna and Carla, expected output is:\n",
    "``They both code in  {'Java'}.``\n",
    "\n",
    "For Bob and Carla, expected output is:\n",
    "``They both code in {'Java', 'JavaScript'}.``"
   ]
  },
  {
   "cell_type": "code",
   "execution_count": 11,
   "id": "2605748f-3dee-4895-a596-6d0eb16216e0",
   "metadata": {
    "deletable": false,
    "nbgrader": {
     "cell_type": "code",
     "checksum": "3758a49bf6e6ceff34e13833ecbb04d4",
     "grade": false,
     "grade_id": "cell-628b0844864613bc",
     "locked": false,
     "schema_version": 3,
     "solution": true,
     "task": false
    }
   },
   "outputs": [],
   "source": [
    "def question3(dictionary, person1, person2):\n",
    "    firstAttr=dictionary[person1]\n",
    "    secAttr  =dictionary[person2]\n",
    "    result=firstAttr & secAttr\n",
    "    return \"They both code in \"+str(result)+\".\""
   ]
  },
  {
   "cell_type": "markdown",
   "id": "f50bd375",
   "metadata": {
    "deletable": false,
    "editable": false,
    "nbgrader": {
     "cell_type": "markdown",
     "checksum": "f5aa4e2299cc4b7eb4bc9adce35bd3c2",
     "grade": false,
     "grade_id": "cell-2358ef5f8ef9e9a0",
     "locked": true,
     "schema_version": 3,
     "solution": false,
     "task": false
    }
   },
   "source": [
    "# Tests\n",
    "\n",
    "The cell below contains unit tests for your solution.\n",
    "\n",
    "Run the below cell (after running all the above cells with your code)."
   ]
  },
  {
   "cell_type": "code",
   "execution_count": 12,
   "id": "4205e811",
   "metadata": {
    "collapsed": false,
    "deletable": false,
    "editable": false,
    "jupyter": {
     "outputs_hidden": false
    },
    "nbgrader": {
     "cell_type": "code",
     "checksum": "0b52876d08b53587505192147f947fe4",
     "grade": true,
     "grade_id": "cell-b8fd170e6b42cf68",
     "locked": true,
     "points": 1,
     "schema_version": 3,
     "solution": false,
     "task": false
    }
   },
   "outputs": [],
   "source": [
    "assert question1(prog_skills, \"Anna\") == \"Anna can code in {'C#', 'Java'}.\" or \\\n",
    "question1(prog_skills, \"Anna\") == \"Anna can code in {'Java', 'C#'}.\""
   ]
  },
  {
   "cell_type": "code",
   "execution_count": 13,
   "id": "43fa0d33-3389-481f-9f6b-f0ebc1bfff24",
   "metadata": {
    "collapsed": false,
    "deletable": false,
    "editable": false,
    "jupyter": {
     "outputs_hidden": false
    },
    "nbgrader": {
     "cell_type": "code",
     "checksum": "004b680a06441431efa12dde17f278cb",
     "grade": true,
     "grade_id": "cell-7aae16280978cf72",
     "locked": true,
     "points": 1,
     "schema_version": 3,
     "solution": false,
     "task": false
    }
   },
   "outputs": [],
   "source": [
    "assert question2(prog_skills, \"Bob\") == \"Bob codes in 3 languages.\""
   ]
  },
  {
   "cell_type": "code",
   "execution_count": 14,
   "id": "e8366fbe-a371-4ee8-901c-4d0a3726e485",
   "metadata": {
    "collapsed": false,
    "deletable": false,
    "editable": false,
    "jupyter": {
     "outputs_hidden": false
    },
    "nbgrader": {
     "cell_type": "code",
     "checksum": "74d142d7fe16c5ce7a8c52113ee1a243",
     "grade": true,
     "grade_id": "cell-53305c7f6d30921e",
     "locked": true,
     "points": 1,
     "schema_version": 3,
     "solution": false,
     "task": false
    }
   },
   "outputs": [],
   "source": [
    "assert question3(prog_skills, \"Anna\", \"Carla\") == \"They both code in {'Java'}.\"\n",
    "\n",
    "assert question3(prog_skills, \"Bob\", \"Carla\") == \"They both code in {'JavaScript', 'Python'}.\" or \\\n",
    "question3(prog_skills, \"Bob\", \"Carla\") == \"They both code in {'Python', 'JavaScript'}.\""
   ]
  },
  {
   "cell_type": "code",
   "execution_count": null,
   "id": "35efee34-a6b6-4da2-b5b2-5279c48b3eb5",
   "metadata": {},
   "outputs": [],
   "source": []
  }
 ],
 "metadata": {
  "kernelspec": {
   "display_name": "Python 3 (ipykernel)",
   "language": "python",
   "name": "python3"
  },
  "language_info": {
   "codemirror_mode": {
    "name": "ipython",
    "version": 3
   },
   "file_extension": ".py",
   "mimetype": "text/x-python",
   "name": "python",
   "nbconvert_exporter": "python",
   "pygments_lexer": "ipython3",
   "version": "3.11.7"
  }
 },
 "nbformat": 4,
 "nbformat_minor": 5
}
