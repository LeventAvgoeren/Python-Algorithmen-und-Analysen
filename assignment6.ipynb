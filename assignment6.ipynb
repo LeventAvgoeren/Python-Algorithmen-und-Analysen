{
 "cells": [
  {
   "cell_type": "markdown",
   "metadata": {
    "deletable": false,
    "editable": false,
    "nbgrader": {
     "cell_type": "markdown",
     "checksum": "1e6b3bd989aef150ff4d0d3931183193",
     "grade": false,
     "grade_id": "cell-6b651559529b95b9",
     "locked": true,
     "schema_version": 3,
     "solution": false,
     "task": false
    }
   },
   "source": [
    "# Numpy Exercises\n",
    "\n",
    "For this assigment you will need to have numpy installed. \n",
    "\n",
    "You can do this by typing \n",
    "\n",
    "``pip install -r requirements.txt``\n",
    "\n",
    "with the `requirements.txt` file in the lecture material, or simply by\n",
    "\n",
    "``pip install numpy``\n",
    "\n",
    "## Important:\n",
    "For this assignment, you may NOT use any loops! Think instead of how to use numpy functionality. Remember, loops are slow, numpy is faster, and efficiency matters.\n",
    "\n",
    "## Also important (you will get points subtracted if you won't follow these rules):\n",
    " - **Only edit existing cells**\n",
    " - **DO NOT ADD NEW CELLS**\n",
    " - **DO NOT DELETE CELLS**\n",
    " - - **DO NOT ADD NEW CELLS**\n",
    "Please do NOT add any new cells. Please ONLY type your new code where it says ``Your code here` and otherwise do NOT change anything else. This ensures that autograding will work properly."
   ]
  },
  {
   "cell_type": "markdown",
   "metadata": {
    "deletable": false,
    "editable": false,
    "nbgrader": {
     "cell_type": "markdown",
     "checksum": "ca0ed395aebf93d5f95611433df622f8",
     "grade": false,
     "grade_id": "cell-b16a65ecd37976f1",
     "locked": true,
     "schema_version": 3,
     "solution": false,
     "task": false
    }
   },
   "source": [
    "# Assignment 4.1: Creating 1D Arrays\n",
    "\n",
    "Write a function ``assignment_04_01`` that uses ``np.arange`` to create a one dimensional ``numpy`` array with the numbers [ 0,  3,  6,  9, 12, 15, 18, 21, 24, 27, 30].\n"
   ]
  },
  {
   "cell_type": "code",
   "execution_count": 31,
   "metadata": {
    "deletable": false,
    "nbgrader": {
     "cell_type": "code",
     "checksum": "9f2572f6d06fc1de9b7a525093f48041",
     "grade": false,
     "grade_id": "cell-bb8c8e8f55127a5a",
     "locked": false,
     "schema_version": 3,
     "solution": true,
     "task": false
    }
   },
   "outputs": [
    {
     "data": {
      "text/plain": [
       "array([ 0,  3,  6,  9, 12, 15, 18, 21, 24, 27, 30])"
      ]
     },
     "execution_count": 31,
     "metadata": {},
     "output_type": "execute_result"
    }
   ],
   "source": [
    "import numpy as np\n",
    "\n",
    "def assignment_04_01():\n",
    "    result = np.arange(0,31,3)\n",
    "    return result\n",
    "\n",
    "assignment_04_01()"
   ]
  },
  {
   "cell_type": "code",
   "execution_count": 32,
   "metadata": {
    "deletable": false,
    "editable": false,
    "nbgrader": {
     "cell_type": "code",
     "checksum": "632e012707824250a80c8334d00912c1",
     "grade": true,
     "grade_id": "cell-a678b5152ccb4065",
     "locked": true,
     "points": 1,
     "schema_version": 3,
     "solution": false,
     "task": false
    }
   },
   "outputs": [],
   "source": [
    "# Test for your implementation\n",
    "# if this does not raise an error, your code should work\n",
    "\n",
    "correct = np.array([ 0,  3,  6,  9, 12, 15, 18, 21, 24, 27, 30])\n",
    "your_solution = assignment_04_01()\n",
    "assert np.array_equal(your_solution, correct)"
   ]
  },
  {
   "cell_type": "markdown",
   "metadata": {
    "deletable": false,
    "editable": false,
    "nbgrader": {
     "cell_type": "markdown",
     "checksum": "e034c18dd52b8af4b177d283e88dfa09",
     "grade": false,
     "grade_id": "cell-5e413db5f0f84c0d",
     "locked": true,
     "schema_version": 3,
     "solution": false,
     "task": false
    }
   },
   "source": [
    "# Assignment 4.2: Creating 2D Arrays\n",
    "\n",
    "Write a function ``assignment_04_02`` that creates a ``numpy`` array with 4 rows and 5 columns. The content of the array should be 1 for all cells initially as here:\n",
    "\n",
    "```\n",
    "array([[1., 1., 1., 1., 1.],\n",
    "       [1., 1., 1., 1., 1.],\n",
    "       [1., 1., 1., 1., 1.],\n",
    "       [1., 1., 1., 1., 1.]])\n",
    "```\n",
    "\n",
    "Then, the function should *multiply each column by its column index plus 1* and then *subtract its respective row index* resulting in this matrix/array\n",
    "\n",
    "```\n",
    "array([[ 1.,  2.,  3.,  4.,  5.],\n",
    "       [ 0.,  1.,  2.,  3.,  4.],\n",
    "       [-1.,  0.,  1.,  2.,  3.],\n",
    "       [-2., -1.,  0.,  1.,  2.]])\n",
    "```"
   ]
  },
  {
   "cell_type": "code",
   "execution_count": 33,
   "metadata": {
    "deletable": false,
    "nbgrader": {
     "cell_type": "code",
     "checksum": "872b2fd2bf9446920cfcfa3f9d3407f8",
     "grade": false,
     "grade_id": "cell-d18ee1c076298808",
     "locked": false,
     "schema_version": 3,
     "solution": true,
     "task": false
    }
   },
   "outputs": [
    {
     "data": {
      "text/plain": [
       "array([[ 1.,  2.,  3.,  4.,  5.],\n",
       "       [ 0.,  1.,  2.,  3.,  4.],\n",
       "       [-1.,  0.,  1.,  2.,  3.],\n",
       "       [-2., -1.,  0.,  1.,  2.]])"
      ]
     },
     "execution_count": 33,
     "metadata": {},
     "output_type": "execute_result"
    }
   ],
   "source": [
    "import numpy as np\n",
    "\n",
    "def assignment_04_02():\n",
    "    \n",
    "    result = np.ones((4, 5)) # Erstellen eines 4x5-Arrays mit 1en\n",
    "    \n",
    "    \n",
    "    \n",
    "    col_indices = np.arange(1, result.shape[1] + 1)  # Multiplizieren jeder Spalte mit ihrem Index plus 1\n",
    "    result *= col_indices\n",
    "    \n",
    "    \n",
    "    row_indices = np.arange(result.shape[0]).reshape(-1, 1)  # Subtrahieren des Zeilenindex von jeder Zeile\n",
    "    result -= row_indices\n",
    "    \n",
    "    return result\n",
    "\n",
    "\n",
    "assignment_04_02()"
   ]
  },
  {
   "cell_type": "code",
   "execution_count": 34,
   "metadata": {
    "deletable": false,
    "editable": false,
    "nbgrader": {
     "cell_type": "code",
     "checksum": "b1ef059fa13debae6293896043122022",
     "grade": true,
     "grade_id": "cell-6e0ab043a03121f5",
     "locked": true,
     "points": 3,
     "schema_version": 3,
     "solution": false,
     "task": false
    }
   },
   "outputs": [],
   "source": [
    "correct = np.array([[ 1.,  2.,  3.,  4.,  5.],\n",
    "                        [ 0.,  1.,  2.,  3.,  4.],\n",
    "                        [-1.,  0.,  1.,  2.,  3.],\n",
    "                        [-2., -1.,  0.,  1.,  2.]])\n",
    "your_solution = assignment_04_02()\n",
    "assert np.array_equal(your_solution, correct)"
   ]
  },
  {
   "cell_type": "markdown",
   "metadata": {
    "deletable": false,
    "editable": false,
    "nbgrader": {
     "cell_type": "markdown",
     "checksum": "95dc86dde81708095fead3461c31da93",
     "grade": false,
     "grade_id": "cell-8d91704ed23a0516",
     "locked": true,
     "schema_version": 3,
     "solution": false,
     "task": false
    }
   },
   "source": [
    "# Assignment 4.3: Indexing 2D Arrays\n",
    "\n",
    "Write a function ``assignment_04_03`` that expects a ``numpy`` array with 4 rows and 5 columns. Then, extract the bold-faced subarray (the little circles below) and return it.\n",
    "\n",
    "|   |   |   |   |   |\n",
    "|:--|:-:|:-:|:-:|:--|\n",
    "| . | . | . | . | . |\n",
    "| . | **o** | **o** | **o** | . |\n",
    "| . | **o** | **o** | **o** | . |\n",
    "| . | . | . | . | . |\n",
    "\n"
   ]
  },
  {
   "cell_type": "code",
   "execution_count": 35,
   "metadata": {
    "deletable": false,
    "nbgrader": {
     "cell_type": "code",
     "checksum": "dc8d7b77ed0852e9f74776c9502d04b3",
     "grade": false,
     "grade_id": "cell-5e6faab0bedee1f6",
     "locked": false,
     "schema_version": 3,
     "solution": true,
     "task": false
    }
   },
   "outputs": [
    {
     "data": {
      "text/plain": [
       "array([[1., 1., 1.],\n",
       "       [1., 1., 1.]])"
      ]
     },
     "execution_count": 35,
     "metadata": {},
     "output_type": "execute_result"
    }
   ],
   "source": [
    "import numpy as np\n",
    "\n",
    "def assignment_04_03(arr):\n",
    "   \n",
    "    subarray = arr[1:3, 1:4]\n",
    "    return subarray\n",
    "\n",
    "\n",
    "arr = np.ones((4, 5))\n",
    "assignment_04_03(arr)"
   ]
  },
  {
   "cell_type": "code",
   "execution_count": 36,
   "metadata": {
    "deletable": false,
    "editable": false,
    "nbgrader": {
     "cell_type": "code",
     "checksum": "ddef485274e507378136f6bea1f9015a",
     "grade": true,
     "grade_id": "cell-eda99e129a785dc4",
     "locked": true,
     "points": 2,
     "schema_version": 3,
     "solution": false,
     "task": false
    }
   },
   "outputs": [],
   "source": [
    "def assignment_04_03_test():\n",
    "    arr = np.array([[ 1.,  2.,  3.,  4.,  5.],\n",
    "                    [ 0.,  1.,  2.,  3.,  4.],\n",
    "                    [-1.,  0.,  1.,  2.,  3.],\n",
    "                    [-2., -1.,  0.,  1.,  2.]])\n",
    "    correct = np.array([[1., 2., 3.],\n",
    "                        [0., 1., 2.]])\n",
    "    your_solution = assignment_04_03(arr)\n",
    "    assert np.array_equal(your_solution, correct)\n",
    "    \n",
    "assignment_04_03_test()"
   ]
  },
  {
   "cell_type": "markdown",
   "metadata": {
    "deletable": false,
    "editable": false,
    "nbgrader": {
     "cell_type": "markdown",
     "checksum": "e90d94fdb7dbb3dbf2d1123f55ccf8cc",
     "grade": false,
     "grade_id": "cell-63b0a493bad09a02",
     "locked": true,
     "schema_version": 3,
     "solution": false,
     "task": false
    }
   },
   "source": [
    "# Assignment 4.4: Manipulating 2D Arrays\n",
    "\n",
    "Write a function ``assignment_04_04`` that creates a ``numpy`` array with 100000 rows and 2 columns. The first column should contain normally distributed variables with mean 1 and standard deviation 2 and the second column should contain normally distributed variables with mean -2 and standard deviation 0.5. \n",
    "\n"
   ]
  },
  {
   "cell_type": "code",
   "execution_count": 37,
   "metadata": {
    "deletable": false,
    "nbgrader": {
     "cell_type": "code",
     "checksum": "7a95d09059a11572698c2f0042301c3a",
     "grade": false,
     "grade_id": "cell-dda6752053f08e72",
     "locked": false,
     "schema_version": 3,
     "solution": true,
     "task": false
    }
   },
   "outputs": [],
   "source": [
    "import numpy as np\n",
    "\n",
    "def assignment_04_04():\n",
    "      \n",
    "    spalte1 = np.random.normal(1, 2,100000)    # loc=1 is mean, scale=2 is the standard deviation, size=100000 number of samples\n",
    "\n",
    "    \n",
    "   \n",
    "    spalte2 = np.random.normal(-2,0.5,100000)\n",
    "\n",
    "    \n",
    "    result = np.column_stack((spalte1, spalte2)) # Combine the two columns into a single 2D array\n",
    "    \n",
    "    return result\n"
   ]
  },
  {
   "cell_type": "code",
   "execution_count": 38,
   "metadata": {
    "deletable": false,
    "editable": false,
    "nbgrader": {
     "cell_type": "code",
     "checksum": "7a144cb7a79b8732b2a1807c7f95d0f8",
     "grade": true,
     "grade_id": "cell-37e0ffe6545d8ae9",
     "locked": true,
     "points": 4,
     "schema_version": 3,
     "solution": false,
     "task": false
    }
   },
   "outputs": [],
   "source": [
    "result = assignment_04_04()\n",
    "true_mean = np.array([1,-2])\n",
    "true_std = np.array([2., 0.5])\n",
    "mean_diff = result.mean(axis=0) - true_mean\n",
    "std_diff = result.std(axis=0) - true_std\n",
    "assert all(np.hstack([mean_diff, std_diff]) < 0.1)"
   ]
  },
  {
   "cell_type": "code",
   "execution_count": null,
   "metadata": {},
   "outputs": [],
   "source": []
  }
 ],
 "metadata": {
  "kernelspec": {
   "display_name": "Python 3 (ipykernel)",
   "language": "python",
   "name": "python3"
  },
  "language_info": {
   "codemirror_mode": {
    "name": "ipython",
    "version": 3
   },
   "file_extension": ".py",
   "mimetype": "text/x-python",
   "name": "python",
   "nbconvert_exporter": "python",
   "pygments_lexer": "ipython3",
   "version": "3.11.7"
  }
 },
 "nbformat": 4,
 "nbformat_minor": 4
}
