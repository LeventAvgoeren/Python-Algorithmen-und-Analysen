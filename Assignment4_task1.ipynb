{
 "cells": [
  {
   "cell_type": "markdown",
   "id": "2263f94f",
   "metadata": {},
   "source": [
    "---"
   ]
  },
  {
   "cell_type": "markdown",
   "id": "20d1d44c-dafc-4b3d-9a52-10394ee68b2b",
   "metadata": {
    "deletable": false,
    "editable": false,
    "nbgrader": {
     "cell_type": "markdown",
     "checksum": "00d8e2ccd1f92d16fe69737645d5a160",
     "grade": false,
     "grade_id": "cell-6c43363b2990bb1a",
     "locked": true,
     "schema_version": 3,
     "solution": false,
     "task": false
    }
   },
   "source": [
    "# Assignment 4 Task 1 (3 points)"
   ]
  },
  {
   "cell_type": "markdown",
   "id": "53640c04-ed07-41c8-9843-84dde2bfb04a",
   "metadata": {
    "deletable": false,
    "editable": false,
    "nbgrader": {
     "cell_type": "markdown",
     "checksum": "24fc18746b25343a726da63ee56fa133",
     "grade": false,
     "grade_id": "cell-330682aeab89d2bf",
     "locked": true,
     "schema_version": 3,
     "solution": false,
     "task": false
    }
   },
   "source": [
    "In ``assignment4_task1_data.txt`` are some data as integers. Write code to read the data from this file, and store the integers in a list called ``data``."
   ]
  },
  {
   "cell_type": "code",
   "execution_count": 1,
   "id": "9debf7d1-f879-49f0-a743-3b96d710d2de",
   "metadata": {
    "deletable": false,
    "nbgrader": {
     "cell_type": "code",
     "checksum": "634e88dd95341926d5e83369de703c56",
     "grade": false,
     "grade_id": "cell-615539137c249d18",
     "locked": false,
     "schema_version": 3,
     "solution": true,
     "task": false
    }
   },
   "outputs": [
    {
     "name": "stdout",
     "output_type": "stream",
     "text": [
      "[3, 1, 0, 2, 2, 4, 1, 0, 3, 1, 4, 1, 2, 0, 3]\n"
     ]
    }
   ],
   "source": [
    "# YOUR CODE HERE\n",
    "data=[]\n",
    "with open(\"assignment4_task1_data.txt\", \"r\" ) as file:\n",
    "        for i in file:\n",
    "            data.append(int(i.strip()))\n",
    "\n",
    "print(data)\n"
   ]
  },
  {
   "cell_type": "markdown",
   "id": "43e317d1-e3ed-43ba-8ea1-84e0ffe8954d",
   "metadata": {
    "deletable": false,
    "editable": false,
    "nbgrader": {
     "cell_type": "markdown",
     "checksum": "d67d3c143784e066f7515afaffe31d88",
     "grade": false,
     "grade_id": "cell-ceaff5f460016e63",
     "locked": true,
     "schema_version": 3,
     "solution": false,
     "task": false
    }
   },
   "source": [
    "For the rest of this assignment, the goal is to implement some common __data transformations__ yourself withOUT using libraries like numpy and pandas. (Calling such functions in a library will lead to zero points!)\n",
    "\n",
    "Create a module called ``mytransform``, i.e. create a new file ``mytransform.py``.\n",
    "\n",
    "In this module, write a function called ``onehot`` that does the following:\n",
    "- Input named data: a list of integers\n",
    "- Input named classes: number of classes\n",
    "- Return value: the one-hot encoding (or one-hot vectors) for the input list based on the given number of classes, arranged as a list of lists of integers.\n",
    "- Example:\n",
    "  - Inputs = ``data = [3, 0, 1], classes = 5``\n",
    "  - Return value =\n",
    "    ```\n",
    "    [\n",
    "      [0,0,0,1,0],\n",
    "      [1,0,0,0,0],\n",
    "      [0,1,0,0,0]\n",
    "    ]\n",
    "    ```\n",
    "- You can assume that the input data will never violate the number of classes.\n",
    "\n",
    "See this link for more info about one-hot encoding: https://www.geeksforgeeks.org/ml-one-hot-encoding/"
   ]
  },
  {
   "cell_type": "markdown",
   "id": "3086ab17-38b3-43c6-a335-bb39ba9379bd",
   "metadata": {
    "deletable": false,
    "editable": false,
    "nbgrader": {
     "cell_type": "markdown",
     "checksum": "f1b5eb4dfd23541cf1b5f50a6f5b659e",
     "grade": false,
     "grade_id": "cell-04bf55de76499d33",
     "locked": true,
     "schema_version": 3,
     "solution": false,
     "task": false
    }
   },
   "source": [
    "Write code to import your module, so that the automated test code below can call your funciton like this:\n",
    "\n",
    "```\n",
    "mt.onehot(...)  # mt is an alias for mytransform\n",
    "```"
   ]
  },
  {
   "cell_type": "code",
   "execution_count": 2,
   "id": "1f88fdb5-7272-4210-af9e-09ab3e438d9e",
   "metadata": {
    "deletable": false,
    "nbgrader": {
     "cell_type": "code",
     "checksum": "95f736d2e500293a99766cc37e074c92",
     "grade": false,
     "grade_id": "cell-f5c4c21a56bf7d62",
     "locked": false,
     "schema_version": 3,
     "solution": true,
     "task": false
    }
   },
   "outputs": [
    {
     "data": {
      "text/plain": [
       "[[0, 0, 0, 1, 0], [1, 0, 0, 0, 0], [0, 1, 0, 0, 0]]"
      ]
     },
     "execution_count": 2,
     "metadata": {},
     "output_type": "execute_result"
    }
   ],
   "source": [
    "import mytransform as mt\n",
    "\n",
    "mt.onehot([3,0,1],classes=5)"
   ]
  },
  {
   "cell_type": "markdown",
   "id": "b545d90e-fb92-494f-863e-1b5ffa62c75a",
   "metadata": {
    "deletable": false,
    "editable": false,
    "nbgrader": {
     "cell_type": "markdown",
     "checksum": "6a426e09877433533af5c8417cbd4a35",
     "grade": false,
     "grade_id": "cell-5c6aeec59bbcc300",
     "locked": true,
     "schema_version": 3,
     "solution": false,
     "task": false
    }
   },
   "source": [
    "# Tests\n",
    "\n",
    "The cell(s) below contains unit test(s) for your solution.\n",
    "\n",
    "Run the below cell (after running all the above cells with your code)."
   ]
  },
  {
   "cell_type": "code",
   "execution_count": 3,
   "id": "dfabe11d-d78c-49a1-9e12-c20443b65b59",
   "metadata": {
    "deletable": false,
    "editable": false,
    "nbgrader": {
     "cell_type": "code",
     "checksum": "b9b631a60a0b236c526dea374d679876",
     "grade": true,
     "grade_id": "cell-c5550f7439e2f16c",
     "locked": true,
     "points": 1,
     "schema_version": 3,
     "solution": false,
     "task": false
    }
   },
   "outputs": [],
   "source": [
    "assert data == [3, 1, 0, 2, 2, 4, 1, 0, 3, 1, 4, 1, 2, 0, 3]"
   ]
  },
  {
   "cell_type": "code",
   "execution_count": 4,
   "id": "d94e40ee-88e8-478d-8378-096081209a17",
   "metadata": {
    "deletable": false,
    "editable": false,
    "nbgrader": {
     "cell_type": "code",
     "checksum": "3befe3c4dcc9e0bba160b24f2d5a04c0",
     "grade": true,
     "grade_id": "cell-36ac2640cec8ffb8",
     "locked": true,
     "points": 1,
     "schema_version": 3,
     "solution": false,
     "task": false
    }
   },
   "outputs": [],
   "source": [
    "assert mt.onehot(data = data, classes = 5) == [\n",
    "    [0,0,0,1,0],  # 3\n",
    "    [0,1,0,0,0],  # 1\n",
    "    [1,0,0,0,0],  # 0\n",
    "    [0,0,1,0,0],  # 2\n",
    "    [0,0,1,0,0],  # 2\n",
    "    [0,0,0,0,1],  # 4\n",
    "    [0,1,0,0,0],  # 1\n",
    "    [1,0,0,0,0],  # 0\n",
    "    [0,0,0,1,0],  # 3\n",
    "    [0,1,0,0,0],  # 1\n",
    "    [0,0,0,0,1],  # 4\n",
    "    [0,1,0,0,0],  # 1\n",
    "    [0,0,1,0,0],  # 2\n",
    "    [1,0,0,0,0],  # 0\n",
    "    [0,0,0,1,0]   # 3\n",
    "]"
   ]
  },
  {
   "cell_type": "code",
   "execution_count": 5,
   "id": "86523058-0161-4f4f-bd04-1585dab79a52",
   "metadata": {
    "deletable": false,
    "editable": false,
    "nbgrader": {
     "cell_type": "code",
     "checksum": "8346ba9d7db7ccfe417b09c6a1253ec2",
     "grade": true,
     "grade_id": "cell-eaecc53d8533845e",
     "locked": true,
     "points": 1,
     "schema_version": 3,
     "solution": false,
     "task": false
    }
   },
   "outputs": [],
   "source": [
    "assert mt.onehot(data = [0,1,2,3,4,5,6,7,8,9], classes = 10) == [\n",
    "    [1,0,0,0,0,0,0,0,0,0],\n",
    "    [0,1,0,0,0,0,0,0,0,0],\n",
    "    [0,0,1,0,0,0,0,0,0,0],\n",
    "    [0,0,0,1,0,0,0,0,0,0],\n",
    "    [0,0,0,0,1,0,0,0,0,0],\n",
    "    [0,0,0,0,0,1,0,0,0,0],\n",
    "    [0,0,0,0,0,0,1,0,0,0],\n",
    "    [0,0,0,0,0,0,0,1,0,0],\n",
    "    [0,0,0,0,0,0,0,0,1,0],\n",
    "    [0,0,0,0,0,0,0,0,0,1]\n",
    "]"
   ]
  },
  {
   "cell_type": "code",
   "execution_count": 6,
   "id": "5ace52d0-3040-443f-a363-985b2d5f957f",
   "metadata": {},
   "outputs": [
    {
     "data": {
      "text/plain": [
       "[[1, 0, 0, 0, 0, 0, 0, 0, 0, 0],\n",
       " [0, 1, 0, 0, 0, 0, 0, 0, 0, 0],\n",
       " [0, 0, 1, 0, 0, 0, 0, 0, 0, 0],\n",
       " [0, 0, 0, 1, 0, 0, 0, 0, 0, 0],\n",
       " [0, 0, 0, 0, 1, 0, 0, 0, 0, 0],\n",
       " [0, 0, 0, 0, 0, 1, 0, 0, 0, 0],\n",
       " [0, 0, 0, 0, 0, 0, 1, 0, 0, 0],\n",
       " [0, 0, 0, 0, 0, 0, 0, 1, 0, 0],\n",
       " [0, 0, 0, 0, 0, 0, 0, 0, 1, 0],\n",
       " [0, 0, 0, 0, 0, 0, 0, 0, 0, 1]]"
      ]
     },
     "execution_count": 6,
     "metadata": {},
     "output_type": "execute_result"
    }
   ],
   "source": [
    "mt.onehot(data = [0,1,2,3,4,5,6,7,8,9], classes = 10)"
   ]
  },
  {
   "cell_type": "code",
   "execution_count": null,
   "id": "4d7ac6b7-aad3-4cf9-afa5-cdc6ba56494e",
   "metadata": {},
   "outputs": [],
   "source": []
  }
 ],
 "metadata": {
  "kernelspec": {
   "display_name": "Python 3 (ipykernel)",
   "language": "python",
   "name": "python3"
  },
  "language_info": {
   "codemirror_mode": {
    "name": "ipython",
    "version": 3
   },
   "file_extension": ".py",
   "mimetype": "text/x-python",
   "name": "python",
   "nbconvert_exporter": "python",
   "pygments_lexer": "ipython3",
   "version": "3.11.7"
  }
 },
 "nbformat": 4,
 "nbformat_minor": 5
}
