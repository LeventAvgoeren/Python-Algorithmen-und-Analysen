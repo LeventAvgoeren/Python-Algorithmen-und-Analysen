{
 "cells": [
  {
   "cell_type": "markdown",
   "metadata": {
    "deletable": false,
    "editable": false,
    "nbgrader": {
     "cell_type": "markdown",
     "checksum": "f48f390fd9f3cd2a112e3fb2182c2f5a",
     "grade": false,
     "grade_id": "cell-6b651559529b95b9",
     "locked": true,
     "schema_version": 3,
     "solution": false,
     "task": false
    }
   },
   "source": [
    "# ``pandas`` Exercises\n",
    "\n",
    "For this assigment you will need to have ``pandas`` installed. \n",
    "\n",
    "You can do this by typing \n",
    "\n",
    "``pip install -r requirements.txt``\n",
    "\n",
    "with the `requirements.txt` file in the lecture material, or simply by\n",
    "\n",
    "``pip install pandas``\n",
    "\n",
    "## Data\n",
    "\n",
    "You will need the data for this exercise in a subfolder called `data/` - if you downloaded the entire lecture zip file, this should be the case. \n",
    "\n",
    "## We will **subtract points** if:\n",
    " - **You edit anything except for lines where it says YOUR CODE HERE**\n",
    " - **You ADD NEW CELLS**\n",
    " - **You DELETE CELLS**"
   ]
  },
  {
   "cell_type": "markdown",
   "metadata": {
    "deletable": false,
    "editable": false,
    "nbgrader": {
     "cell_type": "markdown",
     "checksum": "7a2dd21cbb880d653799b800f629c274",
     "grade": false,
     "grade_id": "cell-0e5d6011926ae4af",
     "locked": true,
     "schema_version": 3,
     "solution": false,
     "task": false
    }
   },
   "source": [
    "## Assignment 01\n",
    "\n",
    "**Extract some summary statistics of the money spent by the Senat of Berlin**\n",
    "\n",
    "Write a function ``assignment_01`` that takes the data frame of spendings and returns a list with\n",
    "\n",
    "- the count\n",
    "- the mean\n",
    "- the standard deviation\n",
    "- the minimum\n",
    "- the 25% percentile\n",
    "- the 50% percentile (median)\n",
    "- the 75% percentile\n",
    "- the maximum\n",
    " \n",
    "of all spendings in a list. The data is in the subdirectory ``data`` and can be loaded by ``df = pd.read_csv(\"data/zuwendungen-berlin.csv.gz\")``. For convenient compuation of the summary statistics check the pandas Series API for ``describe()``\n",
    "\n",
    "```python\n",
    "\n",
    "def assignment_01(df):\n",
    "    spending_statistics = df. ...\n",
    "    ...\n",
    "    return spending_statistics\n",
    "\n",
    "```\n"
   ]
  },
  {
   "cell_type": "code",
   "execution_count": 73,
   "metadata": {
    "deletable": false,
    "nbgrader": {
     "cell_type": "code",
     "checksum": "0656f65fe9ed000b1a3f87859a61d25f",
     "grade": false,
     "grade_id": "cell-6e04b2799713bf5b",
     "locked": false,
     "schema_version": 3,
     "solution": true,
     "task": false
    }
   },
   "outputs": [
    {
     "data": {
      "text/plain": [
       "[40820.0,\n",
       " 229215.96496815287,\n",
       " 3931963.4288099213,\n",
       " 100.0,\n",
       " 4673.0,\n",
       " 16477.0,\n",
       " 61175.5,\n",
       " 487261162.0]"
      ]
     },
     "execution_count": 73,
     "metadata": {},
     "output_type": "execute_result"
    }
   ],
   "source": [
    "import numpy as np\n",
    "import pandas as pd\n",
    "\n",
    "# load the data into a data frame\n",
    "df = pd.read_csv(\"data/zuwendungen-berlin.csv.gz\")\n",
    "\n",
    "def assignment_01(df):\n",
    "    # YOUR CODE HERE\n",
    "\n",
    "   result= df[\"Betrag\"].describe().tolist()\n",
    "   return result\n",
    "   raise NotImplementedError()\n",
    "\n",
    "assignment_01(df)"
   ]
  },
  {
   "cell_type": "code",
   "execution_count": null,
   "metadata": {
    "deletable": false,
    "editable": false,
    "nbgrader": {
     "cell_type": "code",
     "checksum": "f2fc78f15a79d3894ed8d8d42e69f4ab",
     "grade": true,
     "grade_id": "cell-210a2af3e004d6c3",
     "locked": true,
     "points": 2,
     "schema_version": 3,
     "solution": false,
     "task": false
    }
   },
   "outputs": [],
   "source": []
  },
  {
   "cell_type": "markdown",
   "metadata": {
    "deletable": false,
    "editable": false,
    "nbgrader": {
     "cell_type": "markdown",
     "checksum": "28d47d090e03364c915f1aa9bdde2e06",
     "grade": false,
     "grade_id": "cell-a64373a5857aae7e",
     "locked": true,
     "schema_version": 3,
     "solution": false,
     "task": false
    }
   },
   "source": [
    "## Assignment 02\n",
    "\n",
    "**How much is each recipient of a spending receiving in total?**\n",
    "\n",
    "Write a function ``assignment_02`` that takes the data frame of spendings and groups by recipient (column ``'Name'``) and then sums all money received for each recipient. Return the names of the recipients that received in total 143 Euros. \n",
    "\n",
    "```python\n",
    "\n",
    "def assignment_02(df):\n",
    "    money_received = df.groupby(['Name']). ...\n",
    "    ...\n",
    "    return names_of_recipients\n",
    "\n",
    "```"
   ]
  },
  {
   "cell_type": "code",
   "execution_count": 74,
   "metadata": {
    "deletable": false,
    "nbgrader": {
     "cell_type": "code",
     "checksum": "24c6e5ddfa34d012feba703352539204",
     "grade": false,
     "grade_id": "cell-0b5b2d47610c2edd",
     "locked": false,
     "schema_version": 3,
     "solution": true,
     "task": false
    }
   },
   "outputs": [
    {
     "data": {
      "text/plain": [
       "[\"Rock 'n' Roll Club Pinguin Berlin e. V.\",\n",
       " 'Triathlongemeinschaft Sisu Berlin e. V.']"
      ]
     },
     "execution_count": 74,
     "metadata": {},
     "output_type": "execute_result"
    }
   ],
   "source": [
    "def assignment_02(df):\n",
    "    # YOUR CODE HERE\n",
    "    #gruppierung nach Name und berechnung der summe für jede spalte\n",
    "      money_received = df.groupby('Name')['Betrag'].sum()\n",
    "    #Nach gucken ob received money 143 ist und mit index den namen bekommen\n",
    "      result=money_received[money_received==143].index.tolist()\n",
    "      return result\n",
    "\n",
    "assignment_02(df)"
   ]
  },
  {
   "cell_type": "code",
   "execution_count": null,
   "metadata": {
    "deletable": false,
    "editable": false,
    "nbgrader": {
     "cell_type": "code",
     "checksum": "f1db3883ca1984edc4cb1f505c244d2c",
     "grade": true,
     "grade_id": "cell-1a1b6b58c4c51407",
     "locked": true,
     "points": 3,
     "schema_version": 3,
     "solution": false,
     "task": false
    }
   },
   "outputs": [],
   "source": []
  },
  {
   "cell_type": "markdown",
   "metadata": {
    "deletable": false,
    "editable": false,
    "nbgrader": {
     "cell_type": "markdown",
     "checksum": "c45945529de6805e0f207d47e9724ae2",
     "grade": false,
     "grade_id": "cell-85511d15ce6fd31a",
     "locked": true,
     "schema_version": 3,
     "solution": false,
     "task": false
    }
   },
   "source": [
    "## Assignment 03\n",
    "\n",
    "**How much is Berlin spending on each political ressort?**\n",
    "\n",
    "Write a function ``assignment_03`` that takes the data frame of spendings (spending is the column 'Betrag'), groups by political ressort (in german 'Politikbereich') and computes the \n",
    "\n",
    " - minimum\n",
    " - median\n",
    " - maximum\n",
    "\n",
    "of the spendings on each political ressort. Return the aggregates in the political ressort ('Politikbereich') 'sciences' ('Wissenschaft')\n",
    "\n",
    "```python\n",
    "\n",
    "def assignment_03(df):\n",
    "    spending_per_ressort = df.groupby(['Politikbereich']). ...\n",
    "    ...\n",
    "    return \n",
    "\n",
    "```\n"
   ]
  },
  {
   "cell_type": "code",
   "execution_count": 75,
   "metadata": {
    "deletable": false,
    "nbgrader": {
     "cell_type": "code",
     "checksum": "62a2f24fe6603c3544bfefefb7000d72",
     "grade": false,
     "grade_id": "cell-376c137eb8824d5d",
     "locked": false,
     "schema_version": 3,
     "solution": true,
     "task": false
    }
   },
   "outputs": [
    {
     "data": {
      "text/plain": [
       "min            500.0\n",
       "median      115557.5\n",
       "max       41852102.0\n",
       "Name: Wissenschaft, dtype: float64"
      ]
     },
     "execution_count": 75,
     "metadata": {},
     "output_type": "execute_result"
    }
   ],
   "source": [
    "def assignment_03(df):\n",
    "    # YOUR CODE HERE\n",
    "    spending_per_ressort = df.groupby('Politikbereich')['Betrag'].agg([\"min\",\"median\",\"max\"])\n",
    "    #filtere nur wissenschaft \n",
    "    result = spending_per_ressort.loc['Wissenschaft']\n",
    "    return result\n",
    "\n",
    "assignment_03(df)"
   ]
  },
  {
   "cell_type": "code",
   "execution_count": null,
   "metadata": {
    "deletable": false,
    "editable": false,
    "nbgrader": {
     "cell_type": "code",
     "checksum": "0e26a2ea543b603760b4cbfde4ed3ba1",
     "grade": true,
     "grade_id": "cell-a690bdb2c343c26f",
     "locked": true,
     "points": 2,
     "schema_version": 3,
     "solution": false,
     "task": false
    }
   },
   "outputs": [],
   "source": []
  },
  {
   "cell_type": "markdown",
   "metadata": {
    "deletable": false,
    "editable": false,
    "nbgrader": {
     "cell_type": "markdown",
     "checksum": "79b3658f4bd641c00642ef25da2c1e09",
     "grade": false,
     "grade_id": "cell-ab5d6912bbec80c4",
     "locked": true,
     "schema_version": 3,
     "solution": false,
     "task": false
    }
   },
   "source": [
    "## Assignment 04\n",
    "\n",
    "**How much is Berlin spending on each U-Bahn?**\n",
    "\n",
    "Write a function ``assignment_04`` that takes the data frame of spendings, filters for transportation (german 'Verkehr'), groups by the specific ubahn and sums up the spendings. For the ubahn grouping you can extract the ubahn with the regular expression ``'U[1-9]'``. The function should return the ubahn names ordered from most (first element) to least expensive (last element).\n",
    "\n",
    "\n",
    "```python\n",
    "\n",
    "def assignment_04(df):\n",
    "    df['ubahn'] = df['Zweck'].str.extract('(U[1-9])', expand=False) ...\n",
    "    ...\n",
    "    return \n",
    "\n",
    "```\n"
   ]
  },
  {
   "cell_type": "code",
   "execution_count": 76,
   "metadata": {
    "deletable": false,
    "nbgrader": {
     "cell_type": "code",
     "checksum": "9d06d4458b7f0515922c81112f5fd974",
     "grade": false,
     "grade_id": "cell-d287af0046dac368",
     "locked": false,
     "schema_version": 3,
     "solution": true,
     "task": false
    }
   },
   "outputs": [
    {
     "data": {
      "text/plain": [
       "['U5', 'U2', 'U1', 'U6', 'U8', 'U7', 'U9', 'U3', 'U4']"
      ]
     },
     "execution_count": 76,
     "metadata": {},
     "output_type": "execute_result"
    }
   ],
   "source": [
    "def assignment_04(df):\n",
    "    # remove all but the U bahn string (accepting some mistakes)\n",
    "    df['ubahn'] = df['Zweck'].str.extract('(U[1-9])', expand=False)\n",
    "    # YOUR CODE HERE£\n",
    "    result=df.groupby('ubahn')['Betrag'].sum().sort_values(ascending=False)\n",
    "    return result.index.tolist()\n",
    "assignment_04(df)   "
   ]
  },
  {
   "cell_type": "code",
   "execution_count": null,
   "metadata": {
    "deletable": false,
    "editable": false,
    "nbgrader": {
     "cell_type": "code",
     "checksum": "932f481a026c250fd964129423820ec0",
     "grade": true,
     "grade_id": "cell-ad8dcc7ffe2b93f3",
     "locked": true,
     "points": 3,
     "schema_version": 3,
     "solution": false,
     "task": false
    }
   },
   "outputs": [],
   "source": []
  }
 ],
 "metadata": {
  "kernelspec": {
   "display_name": "Python 3 (ipykernel)",
   "language": "python",
   "name": "python3"
  },
  "language_info": {
   "codemirror_mode": {
    "name": "ipython",
    "version": 3
   },
   "file_extension": ".py",
   "mimetype": "text/x-python",
   "name": "python",
   "nbconvert_exporter": "python",
   "pygments_lexer": "ipython3",
   "version": "3.11.7"
  }
 },
 "nbformat": 4,
 "nbformat_minor": 4
}
