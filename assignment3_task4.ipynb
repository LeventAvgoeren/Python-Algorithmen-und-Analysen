{
 "cells": [
  {
   "cell_type": "markdown",
   "id": "e359b2f6",
   "metadata": {},
   "source": [
    "---"
   ]
  },
  {
   "cell_type": "markdown",
   "id": "4ab44cb1",
   "metadata": {
    "deletable": false,
    "editable": false,
    "nbgrader": {
     "cell_type": "markdown",
     "checksum": "d21599ad80559d88ad9ca49a8ee4c8f3",
     "grade": false,
     "grade_id": "cell-0277741b31b6addc",
     "locked": true,
     "schema_version": 3,
     "solution": false,
     "task": false
    }
   },
   "source": [
    "# Assignment 3 Task 4 (5 points)"
   ]
  },
  {
   "cell_type": "markdown",
   "id": "107a0a46",
   "metadata": {
    "deletable": false,
    "editable": false,
    "nbgrader": {
     "cell_type": "markdown",
     "checksum": "aed76312c0262a4aee6a4358c2dfaf54",
     "grade": false,
     "grade_id": "cell-4cbe91aa9c02d784",
     "locked": true,
     "schema_version": 3,
     "solution": false,
     "task": false
    }
   },
   "source": [
    "Write a function that asks the user to choose a number from 1 to 1000 \n",
    "and then tries to guess that number by halving the search interval.\n",
    "Concretely, the user is prompted after each wrong guess of the program \n",
    "to reveal if their choice is higher or lower than the previous guess \n",
    "and then halves again the next subinterval.\n",
    "\n",
    "Make sure the program stops when the maximum number of possible halving \n",
    "steps is reached (what is this number?). Also make sure you handle unallowed \n",
    "user inputs accordingly.\n",
    "\n",
    "Here is an example of expected output when the user thought of **523**:\n",
    "\n",
    "```\n",
    "Think of a number from 1 to 1000\n",
    "Have you thought of 500? y/n: n\n",
    "Is it lower or higher than 500? l/h: h\n",
    "Have you thought of 750? y/n: n\n",
    "Is it lower or higher than 750? l/h: l\n",
    "Have you thought of 625? y/n: n\n",
    "Is it lower or higher than 625? l/h: l\n",
    "Have you thought of 562? y/n: n\n",
    "Is it lower or higher than 562? l/h: l\n",
    "Have you thought of 531? y/n: n\n",
    "Is it lower or higher than 531? l/h: l\n",
    "Have you thought of 515? y/n: n\n",
    "Is it lower or higher than 515? l/h: h\n",
    "Have you thought of 523? y/n: y\n",
    "Yeah, I guessed correctly in 7 steps!\n",
    "```"
   ]
  },
  {
   "cell_type": "code",
   "execution_count": 1,
   "id": "46b38165-ce8b-4e6f-b113-5e677d5ab578",
   "metadata": {
    "deletable": false,
    "nbgrader": {
     "cell_type": "code",
     "checksum": "83767430747c77795b7817a5b189547a",
     "grade": true,
     "grade_id": "cell-9517a5994bf47076",
     "locked": false,
     "points": 0,
     "schema_version": 3,
     "solution": true,
     "task": false
    }
   },
   "outputs": [],
   "source": [
    "            \n",
    "def number_Guesser():\n",
    "    found=False\n",
    "    steps=0\n",
    "    low=1\n",
    "    high=1000\n",
    "    print(\"Think of a number from 1 to 1000\")\n",
    "    while not found:\n",
    "        if steps==10:\n",
    "            print(\"The maximum of steps is reached sadly i coundt guessed the number \")\n",
    "            break\n",
    "            \n",
    "        mid=(low+high)//2\n",
    "        result=input(\"Have you thought of \"+str(mid)+\"? y/n:\")\n",
    "        if result==\"y\":\n",
    "            steps+=1\n",
    "            if steps==1:\n",
    "                #Damit dort Step steht und nicht steps bei einem versuch\n",
    "                print(\"Yeah, I guessed correctly in \"+str(steps)+\" step!\")\n",
    "                break\n",
    "            print(\"Yeah, I guessed correctly in \"+str(steps)+\" steps!\")\n",
    "            found=True\n",
    "        elif result==\"n\":\n",
    "            steps+=1\n",
    "            #Damit die frage nochmal gestellt wird und nicht wieder von anfang anfängt\n",
    "            while True:\n",
    "                b=input(\"Is it lower or higher than \"+str(mid)+\"? l/h:\")\n",
    "                if b==\"l\":\n",
    "                    high=mid-1\n",
    "                    break\n",
    "                elif b==\"h\":\n",
    "                    low=mid+1\n",
    "                    break\n",
    "            \n",
    "                \n",
    "                \n",
    "                \n",
    "    \n",
    "    "
   ]
  },
  {
   "cell_type": "markdown",
   "id": "91a319d5-8bb7-44c9-88be-8b0d05b08f4e",
   "metadata": {
    "deletable": false,
    "editable": false,
    "nbgrader": {
     "cell_type": "markdown",
     "checksum": "5ea2fe72051237e790321ed2f4aca990",
     "grade": false,
     "grade_id": "cell-24133eebdfb6537f",
     "locked": true,
     "points": 5,
     "schema_version": 3,
     "solution": false,
     "task": true
    }
   },
   "source": [
    "Add additional cells below and call your function 3 times, so that the the printed outputs showcase how your function works. The numbers you (the user) shall think of are:\n",
    "- a number lower than 500\n",
    "- exactly 500\n",
    "- a number higher than 500"
   ]
  },
  {
   "cell_type": "code",
   "execution_count": 2,
   "id": "834d294a-9c02-4d1b-ace4-78e333ddc6bb",
   "metadata": {},
   "outputs": [
    {
     "name": "stdout",
     "output_type": "stream",
     "text": [
      "Think of a number from 1 to 1000\n"
     ]
    },
    {
     "name": "stdin",
     "output_type": "stream",
     "text": [
      "Have you thought of 500? y/n: n\n",
      "Is it lower or higher than 500? l/h: s\n",
      "Is it lower or higher than 500? l/h: h\n",
      "Have you thought of 750? y/n: a\n",
      "Have you thought of 750? y/n: n\n",
      "Is it lower or higher than 750? l/h: l\n",
      "Have you thought of 625? y/n: n\n",
      "Is it lower or higher than 625? l/h: l\n",
      "Have you thought of 562? y/n: n\n",
      "Is it lower or higher than 562? l/h: l\n",
      "Have you thought of 531? y/n: n\n",
      "Is it lower or higher than 531? l/h: l\n",
      "Have you thought of 515? y/n: n\n",
      "Is it lower or higher than 515? l/h: h\n",
      "Have you thought of 523? y/n: y\n"
     ]
    },
    {
     "name": "stdout",
     "output_type": "stream",
     "text": [
      "Yeah, I guessed correctly in 7 steps!\n"
     ]
    }
   ],
   "source": [
    "number_Guesser()\n"
   ]
  },
  {
   "cell_type": "code",
   "execution_count": 3,
   "id": "94b8b8db-e9b2-4de9-86f4-b04c46179365",
   "metadata": {},
   "outputs": [
    {
     "name": "stdout",
     "output_type": "stream",
     "text": [
      "Think of a number from 1 to 1000\n"
     ]
    },
    {
     "name": "stdin",
     "output_type": "stream",
     "text": [
      "Have you thought of 500? y/n: y\n"
     ]
    },
    {
     "name": "stdout",
     "output_type": "stream",
     "text": [
      "Yeah, I guessed correctly in 1 step!\n"
     ]
    }
   ],
   "source": [
    "number_Guesser()"
   ]
  },
  {
   "cell_type": "code",
   "execution_count": 4,
   "id": "5061ec05-e913-45d0-937d-33b6ef6fa982",
   "metadata": {},
   "outputs": [
    {
     "name": "stdout",
     "output_type": "stream",
     "text": [
      "Think of a number from 1 to 1000\n"
     ]
    },
    {
     "name": "stdin",
     "output_type": "stream",
     "text": [
      "Have you thought of 500? y/n: n\n",
      "Is it lower or higher than 500? l/h: l\n",
      "Have you thought of 250? y/n: n\n",
      "Is it lower or higher than 250? l/h: h\n",
      "Have you thought of 375? y/n: n\n",
      "Is it lower or higher than 375? l/h: l\n",
      "Have you thought of 312? y/n: n\n",
      "Is it lower or higher than 312? l/h: h\n",
      "Have you thought of 343? y/n: n\n",
      "Is it lower or higher than 343? l/h: l\n",
      "Have you thought of 327? y/n: n\n",
      "Is it lower or higher than 327? l/h: l\n",
      "Have you thought of 319? y/n: n\n",
      "Is it lower or higher than 319? l/h: h\n",
      "Have you thought of 323? y/n: y\n"
     ]
    },
    {
     "name": "stdout",
     "output_type": "stream",
     "text": [
      "Yeah, I guessed correctly in 8 steps!\n"
     ]
    }
   ],
   "source": [
    "number_Guesser()\n"
   ]
  },
  {
   "cell_type": "code",
   "execution_count": null,
   "id": "33a6ccb7-cb8f-4397-bc24-19aca878fcaf",
   "metadata": {},
   "outputs": [],
   "source": []
  }
 ],
 "metadata": {
  "kernelspec": {
   "display_name": "Python 3 (ipykernel)",
   "language": "python",
   "name": "python3"
  },
  "language_info": {
   "codemirror_mode": {
    "name": "ipython",
    "version": 3
   },
   "file_extension": ".py",
   "mimetype": "text/x-python",
   "name": "python",
   "nbconvert_exporter": "python",
   "pygments_lexer": "ipython3",
   "version": "3.11.7"
  }
 },
 "nbformat": 4,
 "nbformat_minor": 5
}
