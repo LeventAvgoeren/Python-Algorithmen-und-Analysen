{
 "cells": [
  {
   "cell_type": "markdown",
   "id": "479dae15",
   "metadata": {},
   "source": [
    "---"
   ]
  },
  {
   "cell_type": "markdown",
   "id": "4ab44cb1",
   "metadata": {
    "deletable": false,
    "editable": false,
    "nbgrader": {
     "cell_type": "markdown",
     "checksum": "0d9f3d9def170d2680992a8c16c013f8",
     "grade": false,
     "grade_id": "cell-c165f98765ff3385",
     "locked": true,
     "schema_version": 3,
     "solution": false,
     "task": false
    }
   },
   "source": [
    "# Assignment 3 Task 1 (1 point)"
   ]
  },
  {
   "cell_type": "markdown",
   "id": "624fc552",
   "metadata": {
    "deletable": false,
    "editable": false,
    "nbgrader": {
     "cell_type": "markdown",
     "checksum": "d4a77c904ad3f966983d397a271fc264",
     "grade": false,
     "grade_id": "cell-e01b182da202cc61",
     "locked": true,
     "schema_version": 3,
     "solution": false,
     "task": false
    }
   },
   "source": [
    "Write a function named ``multiply`` that multiplies an arbitrarily long list of number arguments (not passed as a list/collection but as single arguments) and returns the result."
   ]
  },
  {
   "cell_type": "code",
   "execution_count": 11,
   "id": "22f17785",
   "metadata": {
    "collapsed": false,
    "deletable": false,
    "jupyter": {
     "outputs_hidden": false
    },
    "nbgrader": {
     "cell_type": "code",
     "checksum": "de4915b6221b1f376edbfe5406128f6e",
     "grade": false,
     "grade_id": "cell-810457514e42bdba",
     "locked": false,
     "schema_version": 3,
     "solution": true,
     "task": false
    }
   },
   "outputs": [],
   "source": [
    "# YOUR CODE HERE\n",
    "def multiply(*args):\n",
    "    result=1\n",
    "    for number in args:\n",
    "        result*=number\n",
    "    return(result)"
   ]
  },
  {
   "cell_type": "markdown",
   "id": "f50bd375",
   "metadata": {
    "deletable": false,
    "editable": false,
    "nbgrader": {
     "cell_type": "markdown",
     "checksum": "43618706f094999c6a4ecc5e133efc62",
     "grade": false,
     "grade_id": "cell-adc6377b367f1d6f",
     "locked": true,
     "schema_version": 3,
     "solution": false,
     "task": false
    }
   },
   "source": [
    "# Tests\n",
    "\n",
    "The cell(s) below contains unit test(s) for your solution.\n",
    "\n",
    "Run the below cell (after running all the above cells with your code)."
   ]
  },
  {
   "cell_type": "code",
   "execution_count": 12,
   "id": "4205e811",
   "metadata": {
    "collapsed": false,
    "deletable": false,
    "editable": false,
    "jupyter": {
     "outputs_hidden": false
    },
    "nbgrader": {
     "cell_type": "code",
     "checksum": "37b896f1dddd3bac41e97e5338e19bf0",
     "grade": true,
     "grade_id": "cell-336ad2bf9b243033",
     "locked": true,
     "points": 1,
     "schema_version": 3,
     "solution": false,
     "task": false
    }
   },
   "outputs": [],
   "source": [
    "assert multiply(1, 2, 4) == 8"
   ]
  },
  {
   "cell_type": "code",
   "execution_count": null,
   "id": "a40010e5-8a4e-4997-b140-1fffd2124817",
   "metadata": {},
   "outputs": [],
   "source": []
  },
  {
   "cell_type": "code",
   "execution_count": null,
   "id": "498990f3-7d8f-4ca6-8570-a6da7b695edb",
   "metadata": {},
   "outputs": [],
   "source": []
  }
 ],
 "metadata": {
  "kernelspec": {
   "display_name": "Python 3 (ipykernel)",
   "language": "python",
   "name": "python3"
  },
  "language_info": {
   "codemirror_mode": {
    "name": "ipython",
    "version": 3
   },
   "file_extension": ".py",
   "mimetype": "text/x-python",
   "name": "python",
   "nbconvert_exporter": "python",
   "pygments_lexer": "ipython3",
   "version": "3.11.7"
  }
 },
 "nbformat": 4,
 "nbformat_minor": 5
}
