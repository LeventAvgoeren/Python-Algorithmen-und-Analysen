{
 "cells": [
  {
   "cell_type": "markdown",
   "id": "6e8b9902",
   "metadata": {},
   "source": [
    "---"
   ]
  },
  {
   "cell_type": "markdown",
   "id": "b5434d05-90c0-4c4c-8249-c83826d8f3f4",
   "metadata": {
    "deletable": false,
    "editable": false,
    "nbgrader": {
     "cell_type": "markdown",
     "checksum": "56d6e16a9918fd0dc044df6bb96dfb28",
     "grade": false,
     "grade_id": "cell-940994220ef9fd65",
     "locked": true,
     "schema_version": 3,
     "solution": false,
     "task": false
    },
    "slideshow": {
     "slide_type": ""
    },
    "tags": []
   },
   "source": [
    "# Assignment 5 Task 1 (10 points)"
   ]
  },
  {
   "cell_type": "markdown",
   "id": "e2699de6-2a6a-4e33-b05c-e3111ce76f17",
   "metadata": {
    "deletable": false,
    "editable": false,
    "nbgrader": {
     "cell_type": "markdown",
     "checksum": "dbf976eb8b1dba2c34fd17f4c956da1e",
     "grade": false,
     "grade_id": "cell-ddab80e9e330f29d",
     "locked": true,
     "schema_version": 3,
     "solution": false,
     "task": false
    },
    "slideshow": {
     "slide_type": ""
    },
    "tags": []
   },
   "source": [
    "You created the ``mytransform`` module last week. This week, let's turns that into a class, with a little extension. Please fulfill the following requirements for the class:\n",
    "\n",
    "- The class shall be called ``MyTransform``.\n",
    "\n",
    "- There are 4 private attributes: ``_data_original``, ``_data_flattened``, ``_row``, ``_col``. Except ``_data_flattened``, each of them shall be accessible (i.e. both get and set) publicly via the ``@property`` approach.\n",
    "\n",
    "- There should be **NO** possibility to get and set ``_data_flattened``. (In what way does this design decision make sense?)\n",
    "\n",
    "- The ``__init__()`` method does not take any parameters (except self, of course), but defines the default values of ``_row = 3`` and ``_col = 4``.\n",
    "\n",
    "- The ``flatten()`` method turns ``_data_original`` into a 1-D list and stores that in ``_data_flattened``. No return value.\n",
    "  \n",
    "- The ``reshape()`` method works on ``_data_flattened`` and returns it in the new shape.\n",
    "\n",
    "- The ``size()`` method returns the number of elements in ``_data_original`` or ``_data_flattened``. (They have the same size anyway.)\n",
    "\n",
    "- The ``__repr__()`` method returns an appropriate string describing the instance. Use ``__class__`` to include the class name into the string.\n",
    "\n",
    "A typical flow of using the class looks like this:\n",
    "- Create an \"empty\" instance with no data\n",
    "- Set the ``data_original``, which is any rectangular 2-D matrix. Rectangular means that every row has the same number of columns.\n",
    "- Call ``flatten()``\n",
    "- Inspect the flattened data via ``data_flattened`` and ``size()``\n",
    "- Change the default ``row``, and ``col`` if needed\n",
    "- Call ``reshape()``\n",
    "- Change ``row``, and ``col`` again\n",
    "- Call ``reshape()`` again\n",
    "\n",
    "Calling external library / API to flatten / reshape leads to zero points! You MUST implement your own methods."
   ]
  },
  {
   "cell_type": "markdown",
   "id": "4f529079-3763-4d40-a96a-e3e30bf68701",
   "metadata": {
    "deletable": false,
    "editable": false,
    "nbgrader": {
     "cell_type": "markdown",
     "checksum": "3a17b1db8f3bde516a48517e41090b8b",
     "grade": false,
     "grade_id": "cell-ff1775d10834d054",
     "locked": true,
     "schema_version": 3,
     "solution": false,
     "task": false
    },
    "slideshow": {
     "slide_type": ""
    },
    "tags": []
   },
   "source": [
    "Write your entire class in the single cell below."
   ]
  },
  {
   "cell_type": "code",
   "execution_count": 1,
   "id": "0a0da04a-b225-4b98-9386-d082715994b5",
   "metadata": {
    "deletable": false,
    "editable": true,
    "nbgrader": {
     "cell_type": "code",
     "checksum": "0ef7e12c283759fd87801c223d8b44eb",
     "grade": false,
     "grade_id": "cell-28047faa3ebe06b8",
     "locked": false,
     "schema_version": 3,
     "solution": true,
     "task": false
    },
    "slideshow": {
     "slide_type": ""
    },
    "tags": []
   },
   "outputs": [],
   "source": [
    "# YOUR CODE HERE\n",
    "\n",
    "class MyTransform:\n",
    "    def __init__(self):\n",
    "        # Initialize private attributes with default values\n",
    "        self._data_original = []\n",
    "        self._data_flattened = []\n",
    "        self._row = 3\n",
    "        self._col = 4\n",
    "\n",
    "    @property\n",
    "    def data_original(self):\n",
    "        # Getter for _data_original\n",
    "        return self._data_original\n",
    "\n",
    "    @data_original.setter\n",
    "    def data_original(self, value):\n",
    "        # Setter for _data_original\n",
    "        self._data_original = value\n",
    "\n",
    "    @property\n",
    "    def row(self):\n",
    "        # Getter for _row\n",
    "        return self._row\n",
    "\n",
    "    @row.setter\n",
    "    def row(self, value):\n",
    "        # Setter for _row\n",
    "        self._row = value\n",
    "\n",
    "    @property\n",
    "    def col(self):\n",
    "        # Getter for _col\n",
    "        return self._col\n",
    "\n",
    "    @col.setter\n",
    "    def col(self, value):\n",
    "        # Setter for _col\n",
    "        self._col = value\n",
    "        \n",
    "    def reshape(self):\n",
    "        if len(self._data_flattened) != self._row * self._col:   # Check if the flattened data can be reshaped to the specified dimensions\n",
    "            raise ValueError(\"The total number of elements does not match the desired shape.\")\n",
    "        reshaped_list = []\n",
    "        for i in range(self._row):\n",
    "            start_index = i * self._col  # Calculate start and end index for current slice\n",
    "            end_index = start_index + self._col\n",
    "            reshaped_list.append(self._data_flattened[start_index:end_index])  # Append slice to result list\n",
    "        \n",
    "        return reshaped_list\n",
    "\n",
    "    def size(self):\n",
    "        return len(self._data_flattened) # Return the number of elements in _data_flattened\n",
    "\n",
    "    def flatten(self):\n",
    "        self._data_flattened = []\n",
    "        for sublist in self._data_original:\n",
    "            for item in sublist:\n",
    "                self._data_flattened.append(item)\n",
    "\n",
    "    def __repr__(self):\n",
    "         # Return a string representation of the instance\n",
    "        return f\"{self.__class__.__name__}(data_original={self._data_original}, data_flattened={self._data_flattened}, row={self._row}, col={self._col})\" \n",
    "\n"
   ]
  },
  {
   "cell_type": "code",
   "execution_count": 2,
   "id": "f0ae08b0-578d-43c8-b85b-c3b312fc9232",
   "metadata": {
    "editable": true,
    "nbgrader": {
     "cell_type": "code",
     "checksum": "0ef7e12c283759fd87801c223d8b44eb",
     "grade": false,
     "grade_id": "cell-28047faa3ebe06b8",
     "locked": false,
     "schema_version": 3,
     "solution": true,
     "task": false
    },
    "slideshow": {
     "slide_type": ""
    },
    "tags": []
   },
   "outputs": [
    {
     "name": "stdout",
     "output_type": "stream",
     "text": [
      "True\n"
     ]
    }
   ],
   "source": [
    "\n",
    "my_transform = MyTransform()\n",
    "my_transform._data_original = [\n",
    "    [0,1,2,3],\n",
    "    [4,5,6,7],\n",
    "    [8,9,10,11]\n",
    "]\n",
    "\n",
    "my_transform.flatten()\n",
    "print(my_transform._data_flattened == [0,1,2,3,4,5,6,7,8,9,10,11])"
   ]
  },
  {
   "cell_type": "markdown",
   "id": "f5758807-4958-4fff-9aa7-0e62586452ec",
   "metadata": {
    "deletable": false,
    "editable": false,
    "nbgrader": {
     "cell_type": "markdown",
     "checksum": "eb82a5419ffe2689947baad53fb6afc6",
     "grade": false,
     "grade_id": "cell-5d3338854c3316c0",
     "locked": true,
     "schema_version": 3,
     "solution": false,
     "task": false
    }
   },
   "source": [
    "### IMPORTANT!!! At the very bottom of this notebook is a final cell, and you have to write code for it."
   ]
  },
  {
   "cell_type": "markdown",
   "id": "664ccc31-0e78-465b-93d5-b670381d687b",
   "metadata": {
    "deletable": false,
    "editable": false,
    "nbgrader": {
     "cell_type": "markdown",
     "checksum": "43acaf8d013da97a900e2d6150c4e5a2",
     "grade": false,
     "grade_id": "cell-0030eccf90fc8ad4",
     "locked": true,
     "schema_version": 3,
     "solution": false,
     "task": false
    }
   },
   "source": [
    "# Tests\n",
    "\n",
    "The cell(s) below contains unit test(s) for your solution.\n",
    "\n",
    "Run the below cell (after running all the above cells with your code)."
   ]
  },
  {
   "cell_type": "code",
   "execution_count": 3,
   "id": "f4cb0ba4-2326-4cec-aa24-fa4b197466f6",
   "metadata": {
    "deletable": false,
    "editable": false,
    "nbgrader": {
     "cell_type": "code",
     "checksum": "b027fe7a00df4d9aa51d018b8f4dc6ee",
     "grade": true,
     "grade_id": "cell-dae4d2d23702fe6a",
     "locked": true,
     "points": 1,
     "schema_version": 3,
     "solution": false,
     "task": false
    },
    "slideshow": {
     "slide_type": ""
    },
    "tags": []
   },
   "outputs": [],
   "source": [
    "assert hasattr(MyTransform, '__init__') and callable(getattr(MyTransform, '__init__')) == True\n",
    "\n",
    "my_transform = MyTransform()\n",
    "assert hasattr(my_transform, '_row') == True\n",
    "assert hasattr(my_transform, '_col') == True"
   ]
  },
  {
   "cell_type": "code",
   "execution_count": 4,
   "id": "1779120c-20f7-42b1-91e9-fbd7e6b9bcb6",
   "metadata": {
    "deletable": false,
    "editable": false,
    "nbgrader": {
     "cell_type": "code",
     "checksum": "26203c67ef82bdc29de45980cbbd5591",
     "grade": true,
     "grade_id": "cell-935c1f856156a61f",
     "locked": true,
     "points": 1,
     "schema_version": 3,
     "solution": false,
     "task": false
    },
    "slideshow": {
     "slide_type": ""
    },
    "tags": []
   },
   "outputs": [],
   "source": [
    "assert my_transform.row == 3\n",
    "assert my_transform.col == 4"
   ]
  },
  {
   "cell_type": "code",
   "execution_count": 5,
   "id": "1d4cd6e8-a77f-45c7-8449-08ff71411de8",
   "metadata": {
    "deletable": false,
    "editable": false,
    "nbgrader": {
     "cell_type": "code",
     "checksum": "8dafd3e21a1d5bc038c0b98093506945",
     "grade": true,
     "grade_id": "cell-e96f8241bc0b5aa6",
     "locked": true,
     "points": 1,
     "schema_version": 3,
     "solution": false,
     "task": false
    },
    "slideshow": {
     "slide_type": ""
    },
    "tags": []
   },
   "outputs": [],
   "source": [
    "my_transform.data_original = [\n",
    "  [0,1,2,3],\n",
    "  [4,5,6,7],\n",
    "  [8,9,10,11]\n",
    "]\n",
    "assert hasattr(my_transform, '_data_original') == True"
   ]
  },
  {
   "cell_type": "code",
   "execution_count": 6,
   "id": "26b38371-40c3-4c9f-a515-d98f235c3d89",
   "metadata": {
    "deletable": false,
    "editable": false,
    "nbgrader": {
     "cell_type": "code",
     "checksum": "add305a7471366802c0c1ca63767eae0",
     "grade": true,
     "grade_id": "cell-ac6764d8bca16895",
     "locked": true,
     "points": 1,
     "schema_version": 3,
     "solution": false,
     "task": false
    }
   },
   "outputs": [],
   "source": [
    "my_transform.flatten()\n",
    "assert my_transform._data_flattened == [0,1,2,3,4,5,6,7,8,9,10,11]"
   ]
  },
  {
   "cell_type": "code",
   "execution_count": 7,
   "id": "dab6ac77-d310-419a-ab00-e96013a9fe3a",
   "metadata": {
    "deletable": false,
    "editable": false,
    "nbgrader": {
     "cell_type": "code",
     "checksum": "19ac79c87a381766cd761d2cd5be6fdb",
     "grade": true,
     "grade_id": "cell-92405c30c42d5f16",
     "locked": true,
     "points": 1,
     "schema_version": 3,
     "solution": false,
     "task": false
    }
   },
   "outputs": [],
   "source": [
    "assert hasattr(my_transform, '_data_flattened') == True\n",
    "assert hasattr(my_transform, 'data_flattened') == False"
   ]
  },
  {
   "cell_type": "code",
   "execution_count": 8,
   "id": "67ad3c52-0fcd-45fb-92e0-d8ce0c797997",
   "metadata": {
    "deletable": false,
    "editable": false,
    "nbgrader": {
     "cell_type": "code",
     "checksum": "b543f2cad57c20b3a045bb75cd362d6a",
     "grade": true,
     "grade_id": "cell-c109aa2f98a44d2a",
     "locked": true,
     "points": 1,
     "schema_version": 3,
     "solution": false,
     "task": false
    }
   },
   "outputs": [],
   "source": [
    "my_transform.row = 4\n",
    "my_transform.col = 3\n",
    "\n",
    "assert my_transform.row == 4\n",
    "assert my_transform.col == 3\n",
    "\n",
    "assert my_transform.reshape() == [\n",
    "  [0,1,2],\n",
    "  [3,4,5],\n",
    "  [6,7,8],\n",
    "  [9,10,11]\n",
    "]"
   ]
  },
  {
   "cell_type": "code",
   "execution_count": 9,
   "id": "19615e91-5c39-423c-a2e1-330295e61786",
   "metadata": {
    "deletable": false,
    "editable": false,
    "nbgrader": {
     "cell_type": "code",
     "checksum": "26764a3d99730be9951db78cd74cbe35",
     "grade": true,
     "grade_id": "cell-d176c7dce9d591ce",
     "locked": true,
     "points": 1,
     "schema_version": 3,
     "solution": false,
     "task": false
    }
   },
   "outputs": [],
   "source": [
    "my_transform.row = 2\n",
    "my_transform.col = 6\n",
    "\n",
    "assert my_transform.row == 2\n",
    "assert my_transform.col == 6\n",
    "\n",
    "assert my_transform.reshape() == [\n",
    "  [0,1,2,3,4,5],\n",
    "  [6,7,8,9,10,11]\n",
    "]"
   ]
  },
  {
   "cell_type": "code",
   "execution_count": 10,
   "id": "aae3712b-5e97-4879-a1fc-8d336bddccb1",
   "metadata": {
    "deletable": false,
    "editable": false,
    "nbgrader": {
     "cell_type": "code",
     "checksum": "0b18017746849981da080cc2ca0d11ed",
     "grade": true,
     "grade_id": "cell-39f6db96b1d5b4c3",
     "locked": true,
     "points": 1,
     "schema_version": 3,
     "solution": false,
     "task": false
    }
   },
   "outputs": [],
   "source": [
    "assert my_transform._data_flattened == [0,1,2,3,4,5,6,7,8,9,10,11]"
   ]
  },
  {
   "cell_type": "markdown",
   "id": "6cbc4306-29f5-4efe-9f1c-3c7cbf090158",
   "metadata": {
    "deletable": false,
    "editable": false,
    "nbgrader": {
     "cell_type": "markdown",
     "checksum": "ac74bef4fb0a7cb3ff5a37a41f667756",
     "grade": false,
     "grade_id": "cell-3245cc93df960483",
     "locked": true,
     "points": 1,
     "schema_version": 3,
     "solution": false,
     "task": true
    }
   },
   "source": [
    "1 point will be given manually by checking that your code adheres to coding style conventions."
   ]
  },
  {
   "cell_type": "markdown",
   "id": "6c18fba7-d0a1-4e8b-9726-b10b1eeb9456",
   "metadata": {
    "deletable": false,
    "editable": false,
    "nbgrader": {
     "cell_type": "markdown",
     "checksum": "ee0c17f933dfee987a4e2a8fd0aee9cc",
     "grade": false,
     "grade_id": "cell-f776a0388ceee211",
     "locked": true,
     "points": 1,
     "schema_version": 3,
     "solution": false,
     "task": true
    },
    "slideshow": {
     "slide_type": ""
    },
    "tags": []
   },
   "source": [
    "Please add one code cell below, and write code to demonstrate how ``__repr__()`` works."
   ]
  },
  {
   "cell_type": "code",
   "execution_count": 11,
   "id": "2921326c-a96e-4584-aa01-7cdb522e4293",
   "metadata": {},
   "outputs": [
    {
     "name": "stdout",
     "output_type": "stream",
     "text": [
      "MyTransform(data_original=[[0, 1, 2, 3], [4, 5, 6, 7], [8, 9, 10, 11]], data_flattened=[0, 1, 2, 3, 4, 5, 6, 7, 8, 9, 10, 11], row=3, col=4)\n"
     ]
    }
   ],
   "source": [
    "my_transform = MyTransform()\n",
    "my_transform.data_original = [\n",
    "    [0, 1, 2, 3],\n",
    "    [4, 5, 6, 7],\n",
    "    [8, 9, 10, 11]\n",
    "]\n",
    "my_transform.flatten()\n",
    "\n",
    "print(my_transform)"
   ]
  },
  {
   "cell_type": "code",
   "execution_count": null,
   "id": "3a319386-87f2-4e06-a415-a4340b57594b",
   "metadata": {},
   "outputs": [],
   "source": []
  }
 ],
 "metadata": {
  "kernelspec": {
   "display_name": "Python 3 (ipykernel)",
   "language": "python",
   "name": "python3"
  },
  "language_info": {
   "codemirror_mode": {
    "name": "ipython",
    "version": 3
   },
   "file_extension": ".py",
   "mimetype": "text/x-python",
   "name": "python",
   "nbconvert_exporter": "python",
   "pygments_lexer": "ipython3",
   "version": "3.11.7"
  }
 },
 "nbformat": 4,
 "nbformat_minor": 5
}
