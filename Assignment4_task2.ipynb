{
 "cells": [
  {
   "cell_type": "markdown",
   "id": "564eb582",
   "metadata": {},
   "source": [
    "---"
   ]
  },
  {
   "cell_type": "markdown",
   "id": "527f1095-d5ec-406e-80e5-476de64bacce",
   "metadata": {
    "deletable": false,
    "editable": false,
    "nbgrader": {
     "cell_type": "markdown",
     "checksum": "9e809065d4aba16aac8366316990a288",
     "grade": false,
     "grade_id": "cell-b40440e47b935497",
     "locked": true,
     "schema_version": 3,
     "solution": false,
     "task": false
    }
   },
   "source": [
    "# Assignment 4 Task 2 (3 points)"
   ]
  },
  {
   "cell_type": "markdown",
   "id": "00eae354-b263-4ede-99f7-99fcd2825348",
   "metadata": {
    "deletable": false,
    "editable": false,
    "nbgrader": {
     "cell_type": "markdown",
     "checksum": "920498f16e4bbec31a64e99d7f3f7023",
     "grade": false,
     "grade_id": "cell-a4ab987604fb93aa",
     "locked": true,
     "schema_version": 3,
     "solution": false,
     "task": false
    }
   },
   "source": [
    "In the same ``mytransform`` module, write a function called ``reshape`` that does the following:\n",
    "- Input named data: a list of integers\n",
    "- Input named row: number of rows in the return matrix\n",
    "- Input named col: number of columns in the return matrix\n",
    "- Return value: a matrix, as a list of lists of integers, that is the re-arrangement of the input list integers.\n",
    "- If the data size does not match row and col, raise an appropriate error / exception. Hint: Pick a suitable error from the complete list at the bottom of this webpage: https://docs.python.org/3/library/exceptions.html\n",
    "\n",
    "- Example 1:\n",
    "  - Inputs = ``data = [0, 1, 2, 3, 4, 5], row = 2, col = 3``\n",
    "  - Return value =\n",
    "    ```\n",
    "    [\n",
    "      [0,1,2],\n",
    "      [3,4,5]\n",
    "    ]\n",
    "    ```\n",
    "\n",
    "- Example 2:\n",
    "  - Inputs = ``data = [0, 1, 2, 3, 4, 5, 6, 7], row = 4, col = 2``\n",
    "  - Return value =\n",
    "    ```\n",
    "    [\n",
    "      [0,1],\n",
    "      [2,3],\n",
    "      [4,5],\n",
    "      [6,7]\n",
    "    ]\n",
    "    ```\n",
    "\n",
    "- Example 3:\n",
    "  - Inputs = ``data = [0, 1, 2, 3, 4], row = 2, col = 2`` --> an error is raised"
   ]
  },
  {
   "cell_type": "markdown",
   "id": "ae470fea-6bb1-4fa4-ab79-e252c47971f7",
   "metadata": {
    "deletable": false,
    "editable": false,
    "nbgrader": {
     "cell_type": "markdown",
     "checksum": "b30e821bfb3a5c35b60fa56511b2a0d7",
     "grade": false,
     "grade_id": "cell-d7e032e36fc93242",
     "locked": true,
     "schema_version": 3,
     "solution": false,
     "task": false
    }
   },
   "source": [
    "Write code to import your module, so that the automated test code below can call your funciton like this:\n",
    "\n",
    "```\n",
    "reshape(...)\n",
    "```"
   ]
  },
  {
   "cell_type": "code",
   "execution_count": 1,
   "id": "3bed7d15-46f4-47b4-a111-7e59908a872d",
   "metadata": {
    "deletable": false,
    "nbgrader": {
     "cell_type": "code",
     "checksum": "939888442a7668ae9530e3e7419f4b88",
     "grade": false,
     "grade_id": "cell-6a7b7017d6dc930b",
     "locked": false,
     "schema_version": 3,
     "solution": true,
     "task": false
    }
   },
   "outputs": [],
   "source": [
    "from mytransform import reshape\n"
   ]
  },
  {
   "cell_type": "markdown",
   "id": "e4de7c20-9d72-45c5-a8b2-1b9b6772bfff",
   "metadata": {
    "deletable": false,
    "editable": false,
    "nbgrader": {
     "cell_type": "markdown",
     "checksum": "98f6944c925eb5d092e3159382a5aed6",
     "grade": false,
     "grade_id": "cell-037d8e75b98158b4",
     "locked": true,
     "schema_version": 3,
     "solution": false,
     "task": false
    }
   },
   "source": [
    "### IMPORTANT!!! At the very bottom of this notebook is a final cell, and you have to write code for it."
   ]
  },
  {
   "cell_type": "markdown",
   "id": "1df2565c-54a3-4cf9-bb0d-e1a53cce79bf",
   "metadata": {
    "deletable": false,
    "editable": false,
    "nbgrader": {
     "cell_type": "markdown",
     "checksum": "ca97224500a5df72b425100d953b2c78",
     "grade": false,
     "grade_id": "cell-ce0409bdd2d64aba",
     "locked": true,
     "schema_version": 3,
     "solution": false,
     "task": false
    }
   },
   "source": [
    "# Tests\n",
    "\n",
    "The cell(s) below contains unit test(s) for your solution.\n",
    "\n",
    "Run the below cell (after running all the above cells with your code)."
   ]
  },
  {
   "cell_type": "code",
   "execution_count": 2,
   "id": "d946fac0-4cb6-4ec2-b4f7-f044154b259b",
   "metadata": {
    "deletable": false,
    "editable": false,
    "nbgrader": {
     "cell_type": "code",
     "checksum": "fdd81f19112b421bcae04d7f149dc665",
     "grade": true,
     "grade_id": "cell-e2d4dff761c16275",
     "locked": true,
     "points": 1,
     "schema_version": 3,
     "solution": false,
     "task": false
    }
   },
   "outputs": [],
   "source": [
    "assert reshape(data = [0, 1, 2, 3, 4, 5], row = 2, col = 3) == [\n",
    "  [0,1,2],\n",
    "  [3,4,5]\n",
    "]"
   ]
  },
  {
   "cell_type": "code",
   "execution_count": 3,
   "id": "6aa49e69-3cad-4156-b511-4e598653925d",
   "metadata": {
    "deletable": false,
    "editable": false,
    "nbgrader": {
     "cell_type": "code",
     "checksum": "5bf692b9534960ed4ef618a6be37bd25",
     "grade": true,
     "grade_id": "cell-d105309723ef1379",
     "locked": true,
     "points": 1,
     "schema_version": 3,
     "solution": false,
     "task": false
    }
   },
   "outputs": [],
   "source": [
    "assert reshape(data = [0, 1, 2, 3, 4, 5, 6, 7], row = 4, col = 2) == [\n",
    "  [0,1],\n",
    "  [2,3],\n",
    "  [4,5],\n",
    "  [6,7]\n",
    "]"
   ]
  },
  {
   "cell_type": "markdown",
   "id": "57e7032a-e4c7-4d78-9203-0d3e6f90f8e9",
   "metadata": {
    "deletable": false,
    "editable": false,
    "nbgrader": {
     "cell_type": "markdown",
     "checksum": "e3dbeb70f8b933c315b4d351817e1128",
     "grade": false,
     "grade_id": "cell-f1c15e7f8c39407e",
     "locked": true,
     "points": 1,
     "schema_version": 3,
     "solution": false,
     "task": true
    }
   },
   "source": [
    "Please add one code cell below, and write code to demonstrate that an error will be raised when data size does not match row and col. This will be manually graded."
   ]
  },
  {
   "cell_type": "code",
   "execution_count": 4,
   "id": "a9f96d9c-0270-46e2-9807-0aa74dd7f4c3",
   "metadata": {},
   "outputs": [
    {
     "name": "stdout",
     "output_type": "stream",
     "text": [
      "The total number of elements does not match the desired shape.\n"
     ]
    }
   ],
   "source": [
    "try:\n",
    "    assert reshape(data=[0, 1, 2, 3, 4, 5, 6], row=4, col=2) == [\n",
    "        [0, 1],\n",
    "        [2, 3],\n",
    "        [4, 5],\n",
    "        [6, 7]\n",
    "    ]\n",
    "except ValueError as e:\n",
    "    print(e)"
   ]
  },
  {
   "cell_type": "code",
   "execution_count": null,
   "id": "5b1a53e6-2943-4df1-a047-3ff3b6ec907c",
   "metadata": {},
   "outputs": [],
   "source": []
  }
 ],
 "metadata": {
  "kernelspec": {
   "display_name": "Python 3 (ipykernel)",
   "language": "python",
   "name": "python3"
  },
  "language_info": {
   "codemirror_mode": {
    "name": "ipython",
    "version": 3
   },
   "file_extension": ".py",
   "mimetype": "text/x-python",
   "name": "python",
   "nbconvert_exporter": "python",
   "pygments_lexer": "ipython3",
   "version": "3.11.7"
  }
 },
 "nbformat": 4,
 "nbformat_minor": 5
}
