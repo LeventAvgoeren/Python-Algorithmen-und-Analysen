{
 "cells": [
  {
   "cell_type": "markdown",
   "id": "a3743304",
   "metadata": {},
   "source": [
    "---"
   ]
  },
  {
   "cell_type": "markdown",
   "id": "4ab44cb1",
   "metadata": {
    "deletable": false,
    "editable": false,
    "nbgrader": {
     "cell_type": "markdown",
     "checksum": "bd3c1acf45e8da542b90c42473772ed9",
     "grade": false,
     "grade_id": "cell-4f5ca70d43e8e2b3",
     "locked": true,
     "schema_version": 3,
     "solution": false,
     "task": false
    }
   },
   "source": [
    "# Assignment 3 Task 3 (1 point)"
   ]
  },
  {
   "cell_type": "markdown",
   "id": "197780f3",
   "metadata": {
    "deletable": false,
    "editable": false,
    "nbgrader": {
     "cell_type": "markdown",
     "checksum": "ad30006c817e6f219d8c81f342e73ed0",
     "grade": false,
     "grade_id": "cell-98bff4649ba03951",
     "locked": true,
     "schema_version": 3,
     "solution": false,
     "task": false
    }
   },
   "source": [
    "Write a function ```is_sorted``` that takes a list as an argument and checks whether the list is sorted in ascending order or not. The print statements below should all return the expected output. Also write a docstring in the functions head - between the triple quotes - describing the input and the output of the function.\n",
    "\n",
    "```\n",
    "    print(is_sorted([-3, 0.5, 100])) --> True\n",
    "    print(is_sorted([2, 3, 5, 4.5])) --> False\n",
    "    print(is_sorted(['a', 'c', 'e'])) --> True\n",
    "    print(is_sorted(['a', 'e', 'c'])) --> False\n",
    "```"
   ]
  },
  {
   "cell_type": "code",
   "execution_count": 1,
   "id": "6ccde1d7",
   "metadata": {
    "deletable": false,
    "nbgrader": {
     "cell_type": "code",
     "checksum": "6f43e25f5b033588758450d0574d6c2c",
     "grade": false,
     "grade_id": "cell-9552dd6d8eb8b442",
     "locked": false,
     "schema_version": 3,
     "solution": true,
     "task": false
    }
   },
   "outputs": [],
   "source": [
    "def is_sorted(list_to_sort):\n",
    "   for i in range(len(list_to_sort)-1): \n",
    "        if list_to_sort[i] > list_to_sort[i + 1]:\n",
    "            return False \n",
    "   return True "
   ]
  },
  {
   "cell_type": "markdown",
   "id": "f50bd375",
   "metadata": {
    "deletable": false,
    "editable": false,
    "nbgrader": {
     "cell_type": "markdown",
     "checksum": "bb2cff399d6f85a4fbdef5d10d2a975c",
     "grade": false,
     "grade_id": "cell-50c0d5fc797463a6",
     "locked": true,
     "schema_version": 3,
     "solution": false,
     "task": false
    }
   },
   "source": [
    "# Tests\n",
    "\n",
    "The cell below contains unit tests for your solution.\n",
    "\n",
    "Run the below cell (after running all the above cells with your code)."
   ]
  },
  {
   "cell_type": "code",
   "execution_count": 2,
   "id": "4205e811",
   "metadata": {
    "collapsed": false,
    "deletable": false,
    "editable": false,
    "jupyter": {
     "outputs_hidden": false
    },
    "nbgrader": {
     "cell_type": "code",
     "checksum": "d1d57ec36b47a47fb4c3636ed19850fe",
     "grade": true,
     "grade_id": "cell-73c1b287466cff38",
     "locked": true,
     "points": 1,
     "schema_version": 3,
     "solution": false,
     "task": false
    }
   },
   "outputs": [],
   "source": [
    "assert is_sorted([-3, 0.5, 100]) == True\n",
    "assert is_sorted(['a', 'e', 'c']) == False"
   ]
  },
  {
   "cell_type": "code",
   "execution_count": null,
   "id": "9b5132ac-96ae-4ddb-afde-af9fb8ef9b90",
   "metadata": {},
   "outputs": [],
   "source": []
  }
 ],
 "metadata": {
  "kernelspec": {
   "display_name": "Python 3 (ipykernel)",
   "language": "python",
   "name": "python3"
  },
  "language_info": {
   "codemirror_mode": {
    "name": "ipython",
    "version": 3
   },
   "file_extension": ".py",
   "mimetype": "text/x-python",
   "name": "python",
   "nbconvert_exporter": "python",
   "pygments_lexer": "ipython3",
   "version": "3.11.7"
  }
 },
 "nbformat": 4,
 "nbformat_minor": 5
}
